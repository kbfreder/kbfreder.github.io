{
 "cells": [
  {
   "cell_type": "markdown",
   "metadata": {},
   "source": [
    "## *Metis Project 3 (\"McNulty\"): Classification*\n",
    "\n",
    "### Background\n",
    "\n",
    "Breast cancer is the most common cancer in the U.S., period -- not just in women. 1 in 8 women will be diagnosed with the disease at some point in her life. While the 5-year survival rate is upwards of 84%, any improvement will translate to thousands of lives saved or improved.\n",
    "\n",
    "I set out to predict the 5-year survival of breast cancer patients using data gathered by the National Cancer Institute's  (NCI) Surveillance, Epidemeology, and End Results (SEER) program.\n",
    "\n",
    "### Data\n",
    "\n",
    "I needed to request access to the data. Data was provided as a text file, in the format of a 362-character string for each entry:\n",
    "\n",
    "> 925000100000001544102 020491958   00022008C50228500385003211        0126                       0501002500001002000198798703098820110033331  0104000205500205505590   0         01             210     260001742C502      1161023 09980132202        134005    260002600040236991033011258                   00761     2            20100033         99     8          0100\n",
    "\n",
    "An accompanying 'SAS' file enabled decoding of this string. It provided the start position, length, abbreviation, and column name for the features contained within in a data entry. The first three features are shown below as an example:\n",
    "\n",
    "```                                                                                                                   \n",
    "data in;                                                                              \n",
    "  infile seer9 lrecl=362;                                                             \n",
    "  input                                                                               \n",
    "    @ 1   PUBCSNUM             $char8.  /* Patient ID */                              \n",
    "    @ 9   REG                  $char10. /* SEER registry */                           \n",
    "    @ 19  MAR_STAT             $char1.  /* Marital status at diagnosis */       \n",
    "```"
   ]
  },
  {
   "cell_type": "markdown",
   "metadata": {},
   "source": [
    "Using this information, I was able to transform the text file into a dataframe:"
   ]
  },
  {
   "cell_type": "code",
   "execution_count": 8,
   "metadata": {},
   "outputs": [
    {
     "data": {
      "text/html": [
       "<div>\n",
       "<style scoped>\n",
       "    .dataframe tbody tr th:only-of-type {\n",
       "        vertical-align: middle;\n",
       "    }\n",
       "\n",
       "    .dataframe tbody tr th {\n",
       "        vertical-align: top;\n",
       "    }\n",
       "\n",
       "    .dataframe thead th {\n",
       "        text-align: right;\n",
       "    }\n",
       "</style>\n",
       "<table border=\"1\" class=\"dataframe\">\n",
       "  <thead>\n",
       "    <tr style=\"text-align: right;\">\n",
       "      <th></th>\n",
       "      <th>PUBCSNUM</th>\n",
       "      <th>REG</th>\n",
       "      <th>MAR_STAT</th>\n",
       "      <th>RACE1V</th>\n",
       "      <th>NHIADE</th>\n",
       "      <th>SEX</th>\n",
       "      <th>AGE_DX</th>\n",
       "      <th>YR_BRTH</th>\n",
       "      <th>SEQ_NUM</th>\n",
       "      <th>MDXRECMP</th>\n",
       "    </tr>\n",
       "  </thead>\n",
       "  <tbody>\n",
       "    <tr>\n",
       "      <th>0</th>\n",
       "      <td>92500005</td>\n",
       "      <td>0000001544</td>\n",
       "      <td>2</td>\n",
       "      <td>01</td>\n",
       "      <td>0</td>\n",
       "      <td>2</td>\n",
       "      <td>045</td>\n",
       "      <td>1962</td>\n",
       "      <td>00</td>\n",
       "      <td>01</td>\n",
       "    </tr>\n",
       "    <tr>\n",
       "      <th>1</th>\n",
       "      <td>92500010</td>\n",
       "      <td>0000001544</td>\n",
       "      <td>1</td>\n",
       "      <td>02</td>\n",
       "      <td>0</td>\n",
       "      <td>2</td>\n",
       "      <td>049</td>\n",
       "      <td>1958</td>\n",
       "      <td>00</td>\n",
       "      <td>02</td>\n",
       "    </tr>\n",
       "  </tbody>\n",
       "</table>\n",
       "</div>"
      ],
      "text/plain": [
       "   PUBCSNUM         REG MAR_STAT RACE1V NHIADE SEX AGE_DX YR_BRTH SEQ_NUM  \\\n",
       "0  92500005  0000001544        2     01      0   2    045    1962      00   \n",
       "1  92500010  0000001544        1     02      0   2    049    1958      00   \n",
       "\n",
       "  MDXRECMP  \n",
       "0       01  \n",
       "1       02  "
      ]
     },
     "execution_count": 8,
     "metadata": {},
     "output_type": "execute_result"
    }
   ],
   "source": [
    "df3.iloc[:2, :10]"
   ]
  },
  {
   "cell_type": "markdown",
   "metadata": {},
   "source": [
    "The initial dataset contained over 130 features and nearly 600,000 rows. I culled the features to only 12 based on the Code Book. Many of the features were redundant or did not apply to predicting survival. **Taking the time to understand the features in my initial dataset saved me the trouble of feature selection later on.** I furthermore reduced the complexity of some of the features I retained; for example, there were over 19 classes for race. After removing duplicates, dropping null entries, and encoding categorical features, my dataset had 17 columns and 220,000 rows.\n",
    "\n",
    "My data was imbalanced, in that 84% of patients survive longer than 60 months (5 years), and only 16% do not."
   ]
  },
  {
   "cell_type": "markdown",
   "metadata": {},
   "source": [
    "### Tools\n",
    "\n",
    "- Python • Pandas • Numpy • SciPy\n",
    "- scikit-learn • imbalance • skopt\n",
    "- Matplotlib • Seaborn • Tableau\n",
    "- Flask • HTML • CSS • Javascript"
   ]
  },
  {
   "cell_type": "markdown",
   "metadata": {},
   "source": [
    "### Modeling\n",
    "\n",
    "I examined a variety of models including: Logistic Regression, Support Vector Classifier (SVC), Random Forest, Gradient Boosting, Ada Boosting, Naive Bayes. \n",
    "\n",
    "To address the imbalanced nature of my dataset, I tried over- and under-sampling techniques, including: SMOTE, ADASYN (Over-sampling the minority class); Random Undersampling, Edited Nearest Neighbors, Near Miss (version 1\n",
    "and 3), Neighborhood Cleaning Rule, One Sided Selection, Tomek Links (Under-sampling the majority class); SMOTE + EEN, SMOTE + Tomek (combination over- and under-sampling). I also explored an ensemble method: [Balanced Bagging](https://imbalanced-learn.readthedocs.io/en/stable/generated/imblearn.ensemble.BalancedBaggingClassifier.html?highlight=balancedbagging#imblearn.ensemble.BalancedBaggingClassifier)\n",
    "\n",
    "I used stratified 5-fold cross-valdiation to assess models and over-/under-sampling methods. **It was critical that I did the resampling with the cross-validation folds.** When I did not, I observed overfitting for some of the models (Ada Boosting was particularly prone). Below is a function I used to automate this:"
   ]
  },
  {
   "cell_type": "code",
   "execution_count": 1,
   "metadata": {},
   "outputs": [],
   "source": [
    "def assess_model_with_resamp(preprocessor, model, res, X, y, n=5):\n",
    "    '''Resamples data 'X' and 'y' using 'res' method\n",
    "    Tests estimator 'model' with preprocessing steps in 'preprocessor' \n",
    "    All using Stratified 'n'-fold cross-validation\n",
    "    Return ROC AUC score'''\n",
    "\n",
    "    pipe =  Pipeline(steps=[('preprocessor', preprocessor), ('classifier', model)])\n",
    "    cv = StratifiedKFold(n_splits=n, random_state=seed)\n",
    "    scores = []\n",
    "    for train, test in cv.split(X, y):\n",
    "        X_res, y_res = res.fit_resample(X[train], y[train])\n",
    "        pipe.fit(X_res, y_res)\n",
    "        y_proba = model.predict_proba(X[test])[:,1]\n",
    "        scores.append(roc_auc_score(y[test], y_proba))\n",
    "\n",
    "    return np.mean(scores)"
   ]
  },
  {
   "cell_type": "markdown",
   "metadata": {},
   "source": [
    "### Results\n",
    "\n",
    "Resampling did not improve model performance. Paramter tuning yielded only modest improvement over the default values for promising models. The best-performing model was Gradient Boosting, using a deviance loss function, maximum depth of 3, a learning rate of 0.24, and 200 estimators. The average AUC from cross-valdiation on the training set was 0.75; on the test (hold-out) set it was 0.71."
   ]
  },
  {
   "cell_type": "markdown",
   "metadata": {},
   "source": [
    "<img src=\"/images/cm_heatmap.png\" alt=\"Confusion Matrix\" width=\"400\" align=“center”/>"
   ]
  },
  {
   "cell_type": "markdown",
   "metadata": {},
   "source": [
    "Statistic| Value\n",
    "---|---|\n",
    "**Statistic**| **Value**\n",
    "Precision |  0.86\n",
    "Recall |  0.98\n",
    "F1-score |  0.92\n",
    "Specificity |  0.64"
   ]
  },
  {
   "cell_type": "markdown",
   "metadata": {},
   "source": [
    "The false-negative rate is 1.5%, which is desirably low. The False-positive rate is somewhat high at 13%. Recall is excellent for the majority class, \"Survived\". "
   ]
  },
  {
   "cell_type": "markdown",
   "metadata": {},
   "source": [
    "Inspecting the feature importances, we see, perhaps unsuprisingly, that age is the most important, followed by tumor size, the number of positive nodes, and stage.\n",
    "\n",
    "<img src=\"/images/feature_importance.png\" alt=\"Feature Importances\" width=\"500\" align=“center”/>"
   ]
  },
  {
   "cell_type": "markdown",
   "metadata": {},
   "source": [
    "### Web App\n",
    "I created a [web app](/flask/templates/index.html) using flask to provide access to my model. Doctors and patients can enter in the tumor's characteristics at time of diagnosis and receive a prediction for 5-year survival. Patients with a poor prognosis could be flagged for more frequent follow-ups or more aggressive therapies."
   ]
  },
  {
   "cell_type": "markdown",
   "metadata": {},
   "source": [
    "### Future Work\n",
    "\n",
    "I had wanted to include molecular sub-type, Her2 +/- and HR +/-, in my model, but over 90% of the entries lacked this information. When a model was trained on a reduced-size dataset, including sub-type yielded only modest improvement over excluding it (0.67 vs 0.65 AUC, respectively). At this point in the learning curve (~20,000 entries), the training and test scores have not yet converged. It is thus plausible that acquiring more data for which sub-type and surivial are linked would yield an even better model.\n",
    "\n",
    "Furthermore, I would like to include additional molecular data. Multigene prognostic tests, such as PAM50 and OncoType DX, are in wide use today and measure the expression of over 50 genes. Machine learning has the power to examine each gene individually and provide a more nuanced assessment of the multitude of breat cancer types.\n",
    "\n",
    "Many of the features in my model are predictive of not just prognosis but also a cancer's response to a particular therapy. Tieing in treatment outcomes and side effects would assist in choosing an appropriate therapy. This is important not just for maximizing survival but also limiting side effects and improving a patient's quality of life."
   ]
  },
  {
   "cell_type": "markdown",
   "metadata": {},
   "source": [
    "### Code\n",
    "You can find the code for this project [here](https://github.com/kbfreder/breast-cancer)."
   ]
  }
 ],
 "metadata": {
  "kernelspec": {
   "display_name": "Python 3",
   "language": "python",
   "name": "python3"
  },
  "language_info": {
   "codemirror_mode": {
    "name": "ipython",
    "version": 3
   },
   "file_extension": ".py",
   "mimetype": "text/x-python",
   "name": "python",
   "nbconvert_exporter": "python",
   "pygments_lexer": "ipython3",
   "version": "3.6.6"
  }
 },
 "nbformat": 4,
 "nbformat_minor": 2
}
