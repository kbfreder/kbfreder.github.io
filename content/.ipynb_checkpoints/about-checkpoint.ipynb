{
 "cells": [
  {
   "cell_type": "markdown",
   "metadata": {},
   "source": [
    "## About me"
   ]
  },
  {
   "cell_type": "markdown",
   "metadata": {},
   "source": [
    "My name is Kendra Frederick. I am an aspiring Data Scientist with a background in Food Quality, Biopharmaceuticals, and protein biochemistry.\n",
    "\n",
    "I work mainly in Python and its associated packages, but I know my way around SQL (PostgreSQL, SQLite), MongoDB, Flask, JavaScript, and HTML/CSS. I have worked in VBA in the past.\n",
    "\n",
    "I love exploring, visualizing, and modeling data. While I can lose myself in the numbers, I also can consider the context: does the data, or our model, tell us something new about our world? \n",
    "\n",
    "Don't just read about me, see for yourself: I'm kbfreder on <a href = \"https://github.com/kbfreder\">GitHub</a> and <a href = \"https://www.linkedin.com/in/kbfreder/\">LinkedIn</a>."
   ]
  }
 ],
 "metadata": {
  "kernelspec": {
   "display_name": "Python 3",
   "language": "python",
   "name": "python3"
  },
  "language_info": {
   "codemirror_mode": {
    "name": "ipython",
    "version": 3
   },
   "file_extension": ".py",
   "mimetype": "text/x-python",
   "name": "python",
   "nbconvert_exporter": "python",
   "pygments_lexer": "ipython3",
   "version": "3.6.6"
  }
 },
 "nbformat": 4,
 "nbformat_minor": 2
}
