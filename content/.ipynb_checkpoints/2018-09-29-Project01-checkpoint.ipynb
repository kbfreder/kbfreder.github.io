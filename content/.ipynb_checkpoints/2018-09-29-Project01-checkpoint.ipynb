{
 "cells": [
  {
   "cell_type": "markdown",
   "metadata": {
    "slideshow": {
     "slide_type": "slide"
    }
   },
   "source": [
    "# Project 1: MTA Turnstile Data"
   ]
  },
  {
   "cell_type": "markdown",
   "metadata": {
    "slideshow": {
     "slide_type": "slide"
    }
   },
   "source": [
    "## Background\n",
    "Week 1 of the Metis Data Science Bootcamp is in the books! Our first project was a group one, in which we were tasked with mining NYC MTA Turnstile data to recommend optimal deployment of a Tech organization's volunteers. The organization wished to acquire mailing list sign-ups, promote their upcoming gala, and solicit potential donors. We were free to use other datasets.\n",
    "\n",
    "### Team Members\n",
    "\n",
    "I need to start off by recognizing my team: Brenner Heintz, Hiranya Kumar, and Luke Tibbott. Our collective ideas, feedback, and efforts made a better final product than I would have been able to produce on my own. It was a pleasure to work with them.\n",
    "\n",
    "### Data\n",
    "- [MTA Turnstile Data](http://web.mta.info/developers/turnstile.html)\n",
    "- Census data\n",
    "\n",
    "### Tools:\n",
    "- Python, Pandas, Matplotlib, Seaborn\n",
    "- Google API\n",
    "\n",
    "\n",
    "### Approach\n",
    "Select top stations based on:\n",
    "- Traffic volume: a high-volume station means interacting with more people\n",
    "- Commuter \"fingerprint\": tourists are less likely to attend the Gala (and donate) than native New Yorkers.\n",
    "- Proximity to high-income residents: people with more disposable income are more likely to donate. "
   ]
  },
  {
   "cell_type": "markdown",
   "metadata": {
    "slideshow": {
     "slide_type": "slide"
    }
   },
   "source": [
    "## Data Cleaning\n",
    "\n",
    "### MTA Data\n",
    "\n",
    "We started off by downloading one dataset from the MTA website and importing it into python using a csv reader. A scan of the dataframe revealed an issue with the naming of the 'EXITS' column (it contained extra whitespace -- easily removed with `str.strip()`. This may seem like a small detail, but I mention it because **review of imported data is an essential part of data munging**. \n",
    "\n",
    "The entry and exit data are given as a series of counter values every 4 hours, *usually* (but not always...see below) at 0:00, 4:00, 8:00, etc. Thus, to get the actual number of entries and exits, we needed to calculate the difference between consecutive rows for a given station's turnstile:"
   ]
  },
  {
   "cell_type": "markdown",
   "metadata": {},
   "source": [
    "    df['ENTRY_DIFFS'] = df.groupby(['STATION_KEY','TURNSTILE'])['ENTRIES'].diff(periods=-1)*-1"
   ]
  },
  {
   "cell_type": "markdown",
   "metadata": {
    "slideshow": {
     "slide_type": "slide"
    }
   },
   "source": [
    "**Anytime you apply a function** to a dataframe, it's a good idea to **check that it performed as intended**. Reviewing the basic stats of the resulting 'ENTRY_DIFFS' column (or examining a distribution of the values) revealed some very large and some negative values. Examining the large-magnitude differences revealed that they appeared to be due to a resetting of the counter:"
   ]
  },
  {
   "cell_type": "code",
   "execution_count": 8,
   "metadata": {
    "slideshow": {
     "slide_type": "fragment"
    }
   },
   "outputs": [
    {
     "data": {
      "text/html": [
       "<div>\n",
       "<style scoped>\n",
       "    .dataframe tbody tr th:only-of-type {\n",
       "        vertical-align: middle;\n",
       "    }\n",
       "\n",
       "    .dataframe tbody tr th {\n",
       "        vertical-align: top;\n",
       "    }\n",
       "\n",
       "    .dataframe thead th {\n",
       "        text-align: right;\n",
       "    }\n",
       "</style>\n",
       "<table border=\"1\" class=\"dataframe\">\n",
       "  <thead>\n",
       "    <tr style=\"text-align: right;\">\n",
       "      <th></th>\n",
       "      <th>STATION_KEY</th>\n",
       "      <th>DATETIME</th>\n",
       "      <th>ENTRIES</th>\n",
       "      <th>ENTRY_DIFFS</th>\n",
       "    </tr>\n",
       "  </thead>\n",
       "  <tbody>\n",
       "    <tr>\n",
       "      <th>15399</th>\n",
       "      <td>B020 R263 AVENUE H</td>\n",
       "      <td>2018-05-23 04:00:00</td>\n",
       "      <td>92835</td>\n",
       "      <td>9.0</td>\n",
       "    </tr>\n",
       "    <tr>\n",
       "      <th>15400</th>\n",
       "      <td>B020 R263 AVENUE H</td>\n",
       "      <td>2018-05-23 08:00:00</td>\n",
       "      <td>92844</td>\n",
       "      <td>18.0</td>\n",
       "    </tr>\n",
       "    <tr>\n",
       "      <th>15401</th>\n",
       "      <td>B020 R263 AVENUE H</td>\n",
       "      <td>2018-05-23 12:00:00</td>\n",
       "      <td>92862</td>\n",
       "      <td>523768.0</td>\n",
       "    </tr>\n",
       "    <tr>\n",
       "      <th>15402</th>\n",
       "      <td>B020 R263 AVENUE H</td>\n",
       "      <td>2018-05-23 16:00:00</td>\n",
       "      <td>616630</td>\n",
       "      <td>8.0</td>\n",
       "    </tr>\n",
       "    <tr>\n",
       "      <th>15403</th>\n",
       "      <td>B020 R263 AVENUE H</td>\n",
       "      <td>2018-05-23 20:00:00</td>\n",
       "      <td>616638</td>\n",
       "      <td>1.0</td>\n",
       "    </tr>\n",
       "  </tbody>\n",
       "</table>\n",
       "</div>"
      ],
      "text/plain": [
       "              STATION_KEY            DATETIME  ENTRIES  ENTRY_DIFFS\n",
       "15399  B020 R263 AVENUE H 2018-05-23 04:00:00    92835          9.0\n",
       "15400  B020 R263 AVENUE H 2018-05-23 08:00:00    92844         18.0\n",
       "15401  B020 R263 AVENUE H 2018-05-23 12:00:00    92862     523768.0\n",
       "15402  B020 R263 AVENUE H 2018-05-23 16:00:00   616630          8.0\n",
       "15403  B020 R263 AVENUE H 2018-05-23 20:00:00   616638          1.0"
      ]
     },
     "execution_count": 8,
     "metadata": {},
     "output_type": "execute_result"
    }
   ],
   "source": [
    "rand_idx = df.loc[(df['ENTRY_DIFFS'] > 2E5)][:1].index[0]\n",
    "df.loc[rand_idx-2:rand_idx+2, ['STATION_KEY', 'DATETIME','ENTRIES','ENTRY_DIFFS']]"
   ]
  },
  {
   "cell_type": "markdown",
   "metadata": {
    "slideshow": {
     "slide_type": "slide"
    }
   },
   "source": [
    "We chose to filter these outliers out of our dataset. One of our instructors later mentioned that some turnstile's counters appeared to be counting down instead of up -- so one could simply invert their negative numbers and obtain reasonable data. **There are always choices like this to be made in cleaning data.**"
   ]
  },
  {
   "cell_type": "markdown",
   "metadata": {},
   "source": [
    "### Census data\n",
    "\n",
    "We downloaded income tax data from the U.S. 2016 Census and counted the number \"high income\" residents by zip code. We defined \"high income\" as earning >$100,000 per year."
   ]
  },
  {
   "cell_type": "markdown",
   "metadata": {},
   "source": [
    "### Addresses for stations\n",
    "\n",
    "We used the GoogleMaps API to get the geocodes of (most) subways stations. We extracted the zip code from the address and merged it with the high-income residents dataframe."
   ]
  },
  {
   "cell_type": "markdown",
   "metadata": {},
   "source": [
    "## Results\n",
    "\n",
    "We explored different ways of grouping, slicing, and performing statistical analyses on the MTA turnstile data. We ultimately calculated the **daily total median volume** (entries + exits) for each station and used this to score stations for traffic. We chose median, rather than mean or total volume, as we felt this would provide an additional protection against outliers in the data skewing our results. \n",
    "\n",
    "We explored a variety of ways to classify or score stations as commuter vs. tourist. We ultimately chose a **weekday:weekend ratio**, calculated using the total daily median for each station. We had to filter out stations that had anomalously low weekend traffic, likely due to station closings for track work. \n",
    "\n",
    "We examined the distribution of the number of high income residents to establish a cut-off value."
   ]
  },
  {
   "cell_type": "markdown",
   "metadata": {},
   "source": [
    "### Traffic + Income + Commuters\n",
    "\n",
    "Plotting the number of high-income residents proximal to a station vs. median daily traffic at that station, and applying cut-off criteria:\n",
    "- Traffic: total daily median volume > 50,000\n",
    "- Income: number of high-income residents in the same zipcode as the station > 8,000\n",
    "- Commuters: high weekday:weekend median daily traffic ratio > 2.0"
   ]
  },
  {
   "cell_type": "markdown",
   "metadata": {},
   "source": [
    "<img src=\"images/conclusion-fig.png\" alt=\"HIRTrafficCommuter\" width=\"700\" align=\"center\"/>"
   ]
  },
  {
   "cell_type": "markdown",
   "metadata": {},
   "source": [
    "We arrived at 5 stations that meet these criteria."
   ]
  },
  {
   "cell_type": "markdown",
   "metadata": {},
   "source": [
    "## Conclusions\n",
    "\n",
    "We recommended the organization target these 5 subways stations in their soliciation efforts:"
   ]
  },
  {
   "cell_type": "markdown",
   "metadata": {},
   "source": [
    "<img src=\"images/final-station-map.png\" alt=\"StationMap\" width=\"600\" align=\"center\"/>"
   ]
  },
  {
   "cell_type": "markdown",
   "metadata": {},
   "source": [
    "We could further recommend the time of day to visit these staions. The heatmaps below show total meidan traffic by time of day and day of week."
   ]
  },
  {
   "cell_type": "markdown",
   "metadata": {},
   "source": [
    "<img src=\"images/heatmap.png\" alt=\"Heatmap\" width=\"900\"/>"
   ]
  },
  {
   "cell_type": "markdown",
   "metadata": {},
   "source": [
    "The best time of day to visit stations is Tues-Thurs during the evening rush hour (16h-20h). \n",
    "\n",
    "The 5 AV/53 ST station's heatmap appears different because its time data is shifted. This is an artifact of how the data were resampled. Most station data were reported in 4-hour time blocks starting at midnight (0h). However, not every station's data were reported in exact 4-hour increments, or at the same times (e.g. started at 2AM). We clearly did not do a good enough job of checking this data manipulation! It could be remedied by unsampling the data into 1-hour time blocks, then re-sampling into 4-hour blocks. "
   ]
  }
 ],
 "metadata": {
  "celltoolbar": "Slideshow",
  "kernelspec": {
   "display_name": "Python 3",
   "language": "python",
   "name": "python3"
  },
  "language_info": {
   "codemirror_mode": {
    "name": "ipython",
    "version": 3
   },
   "file_extension": ".py",
   "mimetype": "text/x-python",
   "name": "python",
   "nbconvert_exporter": "python",
   "pygments_lexer": "ipython3",
   "version": "3.5.6"
  }
 },
 "nbformat": 4,
 "nbformat_minor": 2
}
